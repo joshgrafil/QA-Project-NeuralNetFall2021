{
 "cells": [
  {
   "cell_type": "code",
   "execution_count": null,
   "id": "5ea41ac3",
   "metadata": {},
   "outputs": [],
   "source": [
    "import numpy as np\n",
    "import pandas as pd\n",
    "\n",
    "data = pd.read_csv('qa.csv')\n",
    "\n",
    "# this function is used to get printable results\n",
    "def getResults(questions, fn):\n",
    "    def getResult(q):\n",
    "        answer, score, prediction = fn(q)\n",
    "        return> [q, prediction, answer, score]\n",
    "\n",
    "        return pd.DataFrame(list(map(getResult, questions)), columns=[\"Q\", \"Prediction\", \"A\", \"Score\"])\n",
    "    \n",
    "def getNaiveAnswer(q):\n",
    "    # regex helps to pass some punctuation signs\n",
    "    row = data.loc[data['Question'].str.contains(re.sub(r\"[^\\w'\\s)]+\", \"\", q),case=False)]\n",
    "    if len(row) > 0:\n",
    "        return row[\"Answer\"].values[0], 1, row[\"Question\"].values[0]\n",
    "         return \"Sorry, I didn't get you.\", 0, \"\"\n",
    "\n",
    "test_data = []\n",
    "    \n",
    "getResults(test_data, getNaiveAnswer)"
   ]
  }
 ],
 "metadata": {
  "kernelspec": {
   "display_name": "Python 3",
   "language": "python",
   "name": "python3"
  },
  "language_info": {
   "codemirror_mode": {
    "name": "ipython",
    "version": 3
   },
   "file_extension": ".py",
   "mimetype": "text/x-python",
   "name": "python",
   "nbconvert_exporter": "python",
   "pygments_lexer": "ipython3",
   "version": "3.8.8"
  }
 },
 "nbformat": 4,
 "nbformat_minor": 5
}
