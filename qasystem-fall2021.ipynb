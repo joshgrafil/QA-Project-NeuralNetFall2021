{
 "cells": [
  {
   "cell_type": "code",
   "execution_count": 24,
   "id": "d4e33c3d",
   "metadata": {
    "scrolled": true
   },
   "outputs": [
    {
     "name": "stdout",
     "output_type": "stream",
     "text": [
      "Requirement already satisfied: bert-serving-server in c:\\users\\joshg\\appdata\\local\\programs\\python\\python39\\lib\\site-packages (1.10.0)\n",
      "Requirement already satisfied: bert-serving-client in c:\\users\\joshg\\appdata\\local\\programs\\python\\python39\\lib\\site-packages (1.10.0)\n",
      "Requirement already satisfied: pyzmq>=17.1.0 in c:\\users\\joshg\\appdata\\local\\programs\\python\\python39\\lib\\site-packages (from bert-serving-client) (22.3.0)\n",
      "Requirement already satisfied: numpy in c:\\users\\joshg\\appdata\\local\\programs\\python\\python39\\lib\\site-packages (from bert-serving-client) (1.21.4)\n",
      "Requirement already satisfied: six in c:\\users\\joshg\\appdata\\local\\programs\\python\\python39\\lib\\site-packages (from bert-serving-server) (1.16.0)\n",
      "Requirement already satisfied: termcolor>=1.1 in c:\\users\\joshg\\appdata\\local\\programs\\python\\python39\\lib\\site-packages (from bert-serving-server) (1.1.0)\n",
      "Requirement already satisfied: GPUtil>=1.3.0 in c:\\users\\joshg\\appdata\\local\\programs\\python\\python39\\lib\\site-packages (from bert-serving-server) (1.4.0)\n"
     ]
    },
    {
     "name": "stderr",
     "output_type": "stream",
     "text": [
      "WARNING: You are using pip version 21.0.1; however, version 21.3.1 is available.\n",
      "You should consider upgrading via the 'C:\\Users\\joshg\\AppData\\Local\\Programs\\Python\\Python39\\python.exe -m pip install --upgrade pip' command.\n"
     ]
    },
    {
     "name": "stdout",
     "output_type": "stream",
     "text": [
      "Requirement already satisfied: pandas in c:\\users\\joshg\\appdata\\local\\programs\\python\\python39\\lib\\site-packages (1.3.5)\n",
      "Requirement already satisfied: pytz>=2017.3 in c:\\users\\joshg\\appdata\\local\\programs\\python\\python39\\lib\\site-packages (from pandas) (2021.3)\n",
      "Requirement already satisfied: numpy>=1.17.3 in c:\\users\\joshg\\appdata\\local\\programs\\python\\python39\\lib\\site-packages (from pandas) (1.21.4)\n",
      "Requirement already satisfied: python-dateutil>=2.7.3 in c:\\users\\joshg\\appdata\\local\\programs\\python\\python39\\lib\\site-packages (from pandas) (2.8.2)\n",
      "Requirement already satisfied: six>=1.5 in c:\\users\\joshg\\appdata\\local\\programs\\python\\python39\\lib\\site-packages (from python-dateutil>=2.7.3->pandas) (1.16.0)\n"
     ]
    },
    {
     "name": "stderr",
     "output_type": "stream",
     "text": [
      "WARNING: You are using pip version 21.0.1; however, version 21.3.1 is available.\n",
      "You should consider upgrading via the 'C:\\Users\\joshg\\AppData\\Local\\Programs\\Python\\Python39\\python.exe -m pip install --upgrade pip' command.\n"
     ]
    },
    {
     "name": "stdout",
     "output_type": "stream",
     "text": [
      "Requirement already satisfied: numpy in c:\\users\\joshg\\appdata\\local\\programs\\python\\python39\\lib\\site-packages (1.21.4)\n"
     ]
    },
    {
     "name": "stderr",
     "output_type": "stream",
     "text": [
      "WARNING: You are using pip version 21.0.1; however, version 21.3.1 is available.\n",
      "You should consider upgrading via the 'C:\\Users\\joshg\\AppData\\Local\\Programs\\Python\\Python39\\python.exe -m pip install --upgrade pip' command.\n"
     ]
    }
   ],
   "source": [
    "#installing necessary packages\n",
    "import sys\n",
    "stdout = sys.stdout\n",
    "\n",
    "sys.stdout = stdout\n",
    "#!{sys.executable} -m pip install python-Levenshtein\n",
    "!{sys.executable} -m pip install bert-serving-server bert-serving-client\n",
    "!{sys.executable} -m pip install pandas\n",
    "!{sys.executable} -m pip install numpy"
   ]
  },
  {
   "cell_type": "code",
   "execution_count": 52,
   "id": "5ea41ac3",
   "metadata": {},
   "outputs": [],
   "source": [
    "import numpy as np\n",
    "import pandas as pd\n",
    "import re\n",
    "\n",
    "data = pd.read_csv('test.csv')\n",
    "\n",
    "# execute chosen function and print results\n",
    "def getResults(questions, fn):\n",
    "    def getResult(q):\n",
    "        [answer, score, prediction] = fn(q)\n",
    "        return [q, prediction, answer, score]\n",
    "\n",
    "    return pd.DataFrame(list(map(getResult, questions)), columns=[\"Q\", \"Prediction\", \"A\", \"Score\"])\n",
    "\n",
    "# test set of questions\n",
    "test_data = [\n",
    "    \"What is the population of Egypt?\",\n",
    "    \"What is the poplation of egypt\",\n",
    "    \"How long is a leopard's tail?\",\n",
    "    \"Do you know the length of a leopard's tail?\",\n",
    "    \"biggest city in Finland\"\n",
    "]\n",
    "    \n"
   ]
  },
  {
   "cell_type": "code",
   "execution_count": 53,
   "id": "e02133d3",
   "metadata": {},
   "outputs": [],
   "source": [
    "def getNaiveAnswer(q):\n",
    "    # regex helps to pass some punctuation signs\n",
    "    row = data.loc[data['Question'].str.contains(re.sub(r\"[^\\w'\\s)]+\", \"\", q),case=False)]\n",
    "    if len(row) > 0:\n",
    "        return row[\"Answer\"].values[0], 1, row[\"Question\"].values[0]\n",
    "    return \"Sorry, I didn't get you.\", 0, \"\"\n"
   ]
  },
  {
   "cell_type": "code",
   "execution_count": 54,
   "id": "d677e9da",
   "metadata": {},
   "outputs": [
    {
     "data": {
      "text/html": [
       "<div>\n",
       "<style scoped>\n",
       "    .dataframe tbody tr th:only-of-type {\n",
       "        vertical-align: middle;\n",
       "    }\n",
       "\n",
       "    .dataframe tbody tr th {\n",
       "        vertical-align: top;\n",
       "    }\n",
       "\n",
       "    .dataframe thead th {\n",
       "        text-align: right;\n",
       "    }\n",
       "</style>\n",
       "<table border=\"1\" class=\"dataframe\">\n",
       "  <thead>\n",
       "    <tr style=\"text-align: right;\">\n",
       "      <th></th>\n",
       "      <th>Q</th>\n",
       "      <th>Prediction</th>\n",
       "      <th>A</th>\n",
       "      <th>Score</th>\n",
       "    </tr>\n",
       "  </thead>\n",
       "  <tbody>\n",
       "    <tr>\n",
       "      <th>0</th>\n",
       "      <td>What is the population of Egypt?</td>\n",
       "      <td>What is the population of Egypt?</td>\n",
       "      <td>78 million</td>\n",
       "      <td>1</td>\n",
       "    </tr>\n",
       "    <tr>\n",
       "      <th>1</th>\n",
       "      <td>What is the poplation of egypt</td>\n",
       "      <td></td>\n",
       "      <td>Sorry, I didn't get you.</td>\n",
       "      <td>0</td>\n",
       "    </tr>\n",
       "    <tr>\n",
       "      <th>2</th>\n",
       "      <td>How long is a leopard's tail?</td>\n",
       "      <td>How long is a leopard's tail?</td>\n",
       "      <td>60-110cm</td>\n",
       "      <td>1</td>\n",
       "    </tr>\n",
       "    <tr>\n",
       "      <th>3</th>\n",
       "      <td>Do you know the length of a leopard's tail?</td>\n",
       "      <td></td>\n",
       "      <td>Sorry, I didn't get you.</td>\n",
       "      <td>0</td>\n",
       "    </tr>\n",
       "    <tr>\n",
       "      <th>4</th>\n",
       "      <td>biggest city in Finland</td>\n",
       "      <td>What is the biggest city in Finland?</td>\n",
       "      <td>Greater Helsinki</td>\n",
       "      <td>1</td>\n",
       "    </tr>\n",
       "  </tbody>\n",
       "</table>\n",
       "</div>"
      ],
      "text/plain": [
       "                                             Q  \\\n",
       "0             What is the population of Egypt?   \n",
       "1               What is the poplation of egypt   \n",
       "2                How long is a leopard's tail?   \n",
       "3  Do you know the length of a leopard's tail?   \n",
       "4                      biggest city in Finland   \n",
       "\n",
       "                             Prediction                         A  Score  \n",
       "0      What is the population of Egypt?                78 million      1  \n",
       "1                                        Sorry, I didn't get you.      0  \n",
       "2         How long is a leopard's tail?                  60-110cm      1  \n",
       "3                                        Sorry, I didn't get you.      0  \n",
       "4  What is the biggest city in Finland?          Greater Helsinki      1  "
      ]
     },
     "execution_count": 54,
     "metadata": {},
     "output_type": "execute_result"
    }
   ],
   "source": [
    "getResults(test_data, getNaiveAnswer)"
   ]
  },
  {
   "cell_type": "code",
   "execution_count": 55,
   "metadata": {},
   "outputs": [],
   "source": [
    "def lratio(s, t):\n",
    "    \"\"\" levenshtein_ratio_and_distance:\n",
    "        Calculates levenshtein distance between two strings.\n",
    "        If ratio_calc = True, the function computes the\n",
    "        levenshtein distance ratio of similarity between two strings\n",
    "        For all i and j, distance[i,j] will contain the Levenshtein\n",
    "        distance between the first i characters of s and the\n",
    "        first j characters of t\n",
    "    \"\"\"\n",
    "    # Initialize matrix of zeros\n",
    "    rows = len(s)+1\n",
    "    cols = len(t)+1\n",
    "    distance = np.zeros((rows,cols),dtype = int)\n",
    "\n",
    "    # Populate matrix of zeros with the indeces of each character of both strings\n",
    "    for i in range(1, rows):\n",
    "        for k in range(1,cols):\n",
    "            distance[i][0] = i\n",
    "            distance[0][k] = k\n",
    "\n",
    "    # Iterate over the matrix to compute the cost of deletions,insertions and/or substitutions    \n",
    "    for col in range(1, cols):\n",
    "        for row in range(1, rows):\n",
    "            if s[row-1] == t[col-1]:\n",
    "                cost = 0 # If the characters are the same in the two strings in a given position [i,j] then the cost is 0\n",
    "            else:\n",
    "                # Else cost is 1; calculate ratio\n",
    "                cost = 1\n",
    "            distance[row][col] = min(distance[row-1][col] + 1,      # Cost of deletions\n",
    "                                 distance[row][col-1] + 1,          # Cost of insertions\n",
    "                                 distance[row-1][col-1] + cost)     # Cost of substitutions\n",
    "\n",
    "    ratio = ((len(s)+len(t)) - distance[row][col]) / (len(s)+len(t))\n",
    "    return ratio"
   ]
  },
  {
   "cell_type": "code",
   "execution_count": 57,
   "id": "0d186abf",
   "metadata": {},
   "outputs": [
    {
     "data": {
      "text/html": [
       "<div>\n",
       "<style scoped>\n",
       "    .dataframe tbody tr th:only-of-type {\n",
       "        vertical-align: middle;\n",
       "    }\n",
       "\n",
       "    .dataframe tbody tr th {\n",
       "        vertical-align: top;\n",
       "    }\n",
       "\n",
       "    .dataframe thead th {\n",
       "        text-align: right;\n",
       "    }\n",
       "</style>\n",
       "<table border=\"1\" class=\"dataframe\">\n",
       "  <thead>\n",
       "    <tr style=\"text-align: right;\">\n",
       "      <th></th>\n",
       "      <th>Q</th>\n",
       "      <th>Prediction</th>\n",
       "      <th>A</th>\n",
       "      <th>Score</th>\n",
       "    </tr>\n",
       "  </thead>\n",
       "  <tbody>\n",
       "    <tr>\n",
       "      <th>0</th>\n",
       "      <td>What is the population of Egypt?</td>\n",
       "      <td>What is the population of Egypt?</td>\n",
       "      <td>78 million</td>\n",
       "      <td>1.000000</td>\n",
       "    </tr>\n",
       "    <tr>\n",
       "      <th>1</th>\n",
       "      <td>What is the poplation of egypt</td>\n",
       "      <td>What is the population of Egypt?</td>\n",
       "      <td>78 million</td>\n",
       "      <td>0.951613</td>\n",
       "    </tr>\n",
       "    <tr>\n",
       "      <th>2</th>\n",
       "      <td>How long is a leopard's tail?</td>\n",
       "      <td>How long is a leopard's tail?</td>\n",
       "      <td>60-110cm</td>\n",
       "      <td>1.000000</td>\n",
       "    </tr>\n",
       "    <tr>\n",
       "      <th>3</th>\n",
       "      <td>Do you know the length of a leopard's tail?</td>\n",
       "      <td>How long is a leopard's tail?</td>\n",
       "      <td>Sorry, I didn't get you.</td>\n",
       "      <td>0.750000</td>\n",
       "    </tr>\n",
       "    <tr>\n",
       "      <th>4</th>\n",
       "      <td>biggest city in Finland</td>\n",
       "      <td>What is the biggest city in Finland?</td>\n",
       "      <td>Sorry, I didn't get you.</td>\n",
       "      <td>0.779661</td>\n",
       "    </tr>\n",
       "  </tbody>\n",
       "</table>\n",
       "</div>"
      ],
      "text/plain": [
       "                                             Q  \\\n",
       "0             What is the population of Egypt?   \n",
       "1               What is the poplation of egypt   \n",
       "2                How long is a leopard's tail?   \n",
       "3  Do you know the length of a leopard's tail?   \n",
       "4                      biggest city in Finland   \n",
       "\n",
       "                             Prediction                         A     Score  \n",
       "0      What is the population of Egypt?                78 million  1.000000  \n",
       "1      What is the population of Egypt?                78 million  0.951613  \n",
       "2         How long is a leopard's tail?                  60-110cm  1.000000  \n",
       "3         How long is a leopard's tail?  Sorry, I didn't get you.  0.750000  \n",
       "4  What is the biggest city in Finland?  Sorry, I didn't get you.  0.779661  "
      ]
     },
     "execution_count": 57,
     "metadata": {},
     "output_type": "execute_result"
    }
   ],
   "source": [
    "def getApproximateAnswer(q):\n",
    "    max_score = 0\n",
    "    answer = \"\"\n",
    "    prediction = \"\"\n",
    "    for idx, row in data.iterrows():\n",
    "        score = lratio(row[\"Question\"], q)\n",
    "        if score >= 0.9:  # I'm sure, stop here \n",
    "            return  row[\"Answer\"], score, row[\"Question\"]\n",
    "        elif score > max_score: # I'm unsure, continue\n",
    "            max_score = score\n",
    "            answer = row[\"Answer\"]\n",
    "            prediction = row[\"Question\"]\n",
    "\n",
    "    if max_score > 0.8:\n",
    "        return answer, max_score, prediction\n",
    "    return \"Sorry, I didn't get you.\", max_score, prediction\n",
    "\n",
    "getResults(test_data, getApproximateAnswer)"
   ]
  },
  {
   "cell_type": "code",
   "execution_count": null,
   "id": "9f97737a",
   "metadata": {},
   "outputs": [],
   "source": [
    "def improvedApproxAnswer(q):\n",
    "    # if question matches all or part of the original question, score = 1\n",
    "    s = data.loc[data['Question'].str.contains(re.sub(r\"[^\\w'\\s)]+\", \"\", q),case=False)]\n",
    "    if len(s) > 0:\n",
    "        return row[\"Answer\"].values[0], 1, row[\"Question\"].values[0]"
   ]
  },
  {
   "cell_type": "code",
   "execution_count": null,
   "id": "3048bffd",
   "metadata": {},
   "outputs": [],
   "source": []
  },
  {
   "cell_type": "code",
   "execution_count": null,
   "id": "50aa59db",
   "metadata": {},
   "outputs": [],
   "source": []
  }
 ],
 "metadata": {
  "interpreter": {
   "hash": "45cc05a23676e7e8b76cd73ad7a534fd9fde4c775028d55e92cb2164cf6b35ca"
  },
  "kernelspec": {
   "display_name": "Python 3.9.2 64-bit",
   "name": "python3"
  },
  "language_info": {
   "codemirror_mode": {
    "name": "ipython",
    "version": 3
   },
   "file_extension": ".py",
   "mimetype": "text/x-python",
   "name": "python",
   "nbconvert_exporter": "python",
   "pygments_lexer": "ipython3",
   "version": "3.9.2"
  }
 },
 "nbformat": 4,
 "nbformat_minor": 5
}
